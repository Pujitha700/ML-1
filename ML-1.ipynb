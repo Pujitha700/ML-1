{
 "cells": [
  {
   "cell_type": "code",
   "execution_count": 91,
   "id": "674017e3",
   "metadata": {},
   "outputs": [
    {
     "name": "stdout",
     "output_type": "stream",
     "text": [
      "sorted list is [19, 19, 20, 22, 24, 24, 24, 25, 25, 26]\n",
      "minimum age is 19\n",
      "maximum age is 26\n"
     ]
    }
   ],
   "source": [
    "\n",
    "#QUESTION1 \n",
    "\n",
    "ages =[19,22,19,24,20,25,26,24,25,24]\n",
    "\n",
    "#sort the list and find the min and max age\n",
    "s=sorted(ages)\n",
    "print (\"sorted list is\",s)\n",
    "a=min(ages)\n",
    "b=max(ages)\n",
    "print(\"minimum age is\",a)\n",
    "print(\"maximum age is\",b)"
   ]
  },
  {
   "cell_type": "code",
   "execution_count": 92,
   "id": "a1bc267a",
   "metadata": {},
   "outputs": [
    {
     "name": "stdout",
     "output_type": "stream",
     "text": [
      "[19, 19, 20, 22, 24, 24, 24, 25, 25, 26, 19, 26]\n"
     ]
    }
   ],
   "source": [
    "#add the min age and the max age again to the list\n",
    "s.append(a)\n",
    "s.append(b)\n",
    "print(s)"
   ]
  },
  {
   "cell_type": "code",
   "execution_count": 93,
   "id": "8ce275c1",
   "metadata": {},
   "outputs": [
    {
     "name": "stdout",
     "output_type": "stream",
     "text": [
      "6\n",
      "median  age is 25\n"
     ]
    }
   ],
   "source": [
    "#find the median age(one middle item or two middle items divided by two)\n",
    "l=len(s);\n",
    "m=int((l+1)/2);\n",
    "print (m)\n",
    "print(\"median  age is\",ages[m-1])\n",
    "    "
   ]
  },
  {
   "cell_type": "code",
   "execution_count": 94,
   "id": "0c399b7f",
   "metadata": {},
   "outputs": [
    {
     "name": "stdout",
     "output_type": "stream",
     "text": [
      "average age is 22.75\n"
     ]
    }
   ],
   "source": [
    "#Find the average age (sum of all items divided by their number)\n",
    "avg=sum(s)/l\n",
    "print(\"average age is\",avg)"
   ]
  },
  {
   "cell_type": "code",
   "execution_count": 95,
   "id": "08a19d67",
   "metadata": {},
   "outputs": [
    {
     "name": "stdout",
     "output_type": "stream",
     "text": [
      "range of ages is 7\n"
     ]
    }
   ],
   "source": [
    "#find the range of the ages\n",
    "range=b-a\n",
    "print(\"range of ages is\",range)"
   ]
  },
  {
   "cell_type": "code",
   "execution_count": 96,
   "id": "fce59d40",
   "metadata": {},
   "outputs": [
    {
     "name": "stdout",
     "output_type": "stream",
     "text": [
      "{}\n"
     ]
    }
   ],
   "source": [
    "#QUESTION 2\n",
    "\n",
    "#create an empty dictionary called dog\n",
    "\n",
    "dog={}\n",
    "print(dog)\n",
    "\n",
    "\n",
    "\n"
   ]
  },
  {
   "cell_type": "code",
   "execution_count": 97,
   "id": "e19413c8",
   "metadata": {},
   "outputs": [
    {
     "name": "stdout",
     "output_type": "stream",
     "text": [
      "{'name': 'Bruno', 'color': 'Black', 'Breed': 'Retreiver', 'legs': '4', 'age': '7'}\n"
     ]
    }
   ],
   "source": [
    "#add name,color,breed,legs,age to the dog dictionary\n",
    "dog.update({'name':'Bruno','color':'Black','Breed':'Retreiver','legs':'4','age':'7'})\n",
    "print(dog)"
   ]
  },
  {
   "cell_type": "code",
   "execution_count": 98,
   "id": "4996a2c1",
   "metadata": {},
   "outputs": [
    {
     "name": "stdout",
     "output_type": "stream",
     "text": [
      "{'first_name': 'Pujitha', 'last_name': 'Pudota', 'gender': 'F', 'age': '21', 'marital status': 'unmarried', 'skills': ['Java', 'HTML', 'DBMS'], 'country': 'USA', 'city': 'Centerton', 'address': 'PiperLn'}\n"
     ]
    }
   ],
   "source": [
    "#create a student dictionary and add first_name , last_name, gender ,age, marital status,skills,counrty,city and addredd as keys for the dictionary\n",
    "student={}\n",
    "student={'first_name':'Pujitha','last_name':'Pudota','gender':'F','age':'21','marital status':'unmarried','skills':['Java','HTML','DBMS'],'country':'USA','city': 'Centerton', 'address' : 'PiperLn'}\n",
    "print(student)\n"
   ]
  },
  {
   "cell_type": "code",
   "execution_count": 99,
   "id": "39a8897b",
   "metadata": {},
   "outputs": [
    {
     "name": "stdout",
     "output_type": "stream",
     "text": [
      "9\n"
     ]
    }
   ],
   "source": [
    "#get the length of student dictionary\n",
    "print(len(student))"
   ]
  },
  {
   "cell_type": "code",
   "execution_count": 100,
   "id": "31940ecf",
   "metadata": {},
   "outputs": [
    {
     "name": "stdout",
     "output_type": "stream",
     "text": [
      "['Java', 'HTML', 'DBMS'] <class 'list'>\n"
     ]
    }
   ],
   "source": [
    "#get the value of skills and check the data type,it should be a list\n",
    "student={'first_name':'Pujitha', 'last_name' : 'Pudota','gender':'F','age': '21','marital status':'unmarried','skills':['Java','HTML','DBMS'],'country':'USA','city':'Centerton','address':'PiperLn'}\n",
    "s=list(student)\n",
    "print(student.get('skills'),type(s))"
   ]
  },
  {
   "cell_type": "code",
   "execution_count": 101,
   "id": "2190003d",
   "metadata": {},
   "outputs": [
    {
     "name": "stdout",
     "output_type": "stream",
     "text": [
      "{'first_name': 'Pujitha', 'last_name': 'Pudota', 'gender': 'F', 'age': '21', 'marital status': 'unmarried', 'skills': ['Java', 'HTML', 'DBMS', 'C++'], 'country': 'USA', 'city': 'Centerton', 'address': 'PiperLn'}\n"
     ]
    }
   ],
   "source": [
    "#modify the skills values by adding 1 or 2 strings\n",
    "student={'first_name':'Pujitha','last_name':'Pudota','gender':'F','age':'21','marital status':'unmarried','skills':['Java','HTML','DBMS'],'country':'USA','city':'Centerton','address':'PiperLn'}\n",
    "student['skills'].append('C++')\n",
    "print(student)"
   ]
  },
  {
   "cell_type": "code",
   "execution_count": 102,
   "id": "bc706c03",
   "metadata": {},
   "outputs": [
    {
     "name": "stdout",
     "output_type": "stream",
     "text": [
      "dict_keys(['first_name', 'last_name', 'gender', 'age', 'marital status', 'skills', 'country', 'city', 'address'])\n"
     ]
    }
   ],
   "source": [
    "#get the dictionary keys as a list\n",
    "keys=student.keys()\n",
    "print(keys)"
   ]
  },
  {
   "cell_type": "code",
   "execution_count": 103,
   "id": "a776abda",
   "metadata": {},
   "outputs": [
    {
     "name": "stdout",
     "output_type": "stream",
     "text": [
      "dict_values(['Pujitha', 'Pudota', 'F', '21', 'unmarried', ['Java', 'HTML', 'DBMS', 'C++'], 'USA', 'Centerton', 'PiperLn'])\n"
     ]
    }
   ],
   "source": [
    "#get the dictionary values as a list\n",
    "values=student.values()\n",
    "print(values)"
   ]
  },
  {
   "cell_type": "code",
   "execution_count": 104,
   "id": "782d8c94",
   "metadata": {},
   "outputs": [
    {
     "name": "stdout",
     "output_type": "stream",
     "text": [
      "Siblings: ('Anna', 'Bella', 'John', 'Mike')\n",
      "Number of siblings: 4\n",
      "Family members: ('Anna', 'Bella', 'John', 'Mike', 'James', 'Mary')\n"
     ]
    }
   ],
   "source": [
    "#QUESTION 3\n",
    "\n",
    "sisters = (\"Anna\", \"Bella\")\n",
    "brothers = (\"John\", \"Mike\")\n",
    "\n",
    "siblings = sisters + brothers\n",
    "print(\"Siblings:\", siblings)\n",
    "\n",
    "num_siblings = len(siblings)\n",
    "print(\"Number of siblings:\", num_siblings)\n",
    "\n",
    "father = \"James\"\n",
    "mother = \"Mary\"\n",
    "family_members = siblings + (father, mother)\n",
    "print(\"Family members:\", family_members)\n"
   ]
  },
  {
   "cell_type": "code",
   "execution_count": 105,
   "id": "7f1c6def",
   "metadata": {},
   "outputs": [
    {
     "name": "stdout",
     "output_type": "stream",
     "text": [
      "Length of it_companies: 7\n",
      "it_companies after adding 'Twitter': {'Twitter', 'Google', 'Facebook', 'IBM', 'Apple', 'Microsoft', 'Amazon', 'Oracle'}\n",
      "it_companies after adding multiple companies: {'Oracle', 'Facebook', 'Adobe', 'IBM', 'Amazon', 'Netflix', 'Twitter', 'Google', 'Microsoft', 'Tesla', 'Apple'}\n",
      "it_companies after removing 'Oracle': {'Facebook', 'Adobe', 'IBM', 'Amazon', 'Netflix', 'Twitter', 'Google', 'Microsoft', 'Tesla', 'Apple'}\n",
      "A union B: {19, 20, 22, 24, 25, 26, 27, 28}\n",
      "A intersection B: {19, 20, 22, 24, 25, 26}\n",
      "Is A subset of B: True\n",
      "Are A and B disjoint: False\n",
      "A joined with B: {19, 20, 22, 24, 25, 26, 27, 28}\n",
      "B joined with A: {19, 20, 22, 24, 25, 26, 27, 28}\n",
      "Symmetric difference between A and B: {27, 28}\n",
      "A and B sets deleted.\n",
      "Length of age list: 8\n",
      "Length of age set: 5\n"
     ]
    }
   ],
   "source": [
    "#QUESTION 4\n",
    "\n",
    "\n",
    "it_companies = {'Facebook', 'Google', 'Microsoft', 'Apple', 'IBM', 'Oracle', 'Amazon'}\n",
    "A = {19, 22, 24, 20, 25, 26}\n",
    "B = {19, 22, 20, 25, 26, 24, 28, 27}\n",
    "age = [22, 19, 24, 25, 26, 24, 25, 24]\n",
    "\n",
    "\n",
    "it_companies_length = len(it_companies)\n",
    "print(\"Length of it_companies:\", it_companies_length)\n",
    "\n",
    "\n",
    "it_companies.add('Twitter')\n",
    "print(\"it_companies after adding 'Twitter':\", it_companies)\n",
    "\n",
    "\n",
    "it_companies.update({'Tesla', 'Netflix', 'Adobe'})\n",
    "print(\"it_companies after adding multiple companies:\", it_companies)\n",
    "\n",
    "\n",
    "it_companies.remove('Oracle')\n",
    "print(\"it_companies after removing 'Oracle':\", it_companies)\n",
    "\n",
    "\n",
    "A_union_B = A.union(B)\n",
    "print(\"A union B:\", A_union_B)\n",
    "\n",
    "A_intersection_B = A.intersection(B)\n",
    "print(\"A intersection B:\", A_intersection_B)\n",
    "\n",
    "\n",
    "is_A_subset_B = A.issubset(B)\n",
    "print(\"Is A subset of B:\", is_A_subset_B)\n",
    "\n",
    "\n",
    "are_A_B_disjoint = A.isdisjoint(B)\n",
    "print(\"Are A and B disjoint:\", are_A_B_disjoint)\n",
    "\n",
    "\n",
    "A_join_B = A.union(B)\n",
    "B_join_A = B.union(A)\n",
    "print(\"A joined with B:\", A_join_B)\n",
    "print(\"B joined with A:\", B_join_A)\n",
    "\n",
    "\n",
    "A_symmetric_difference_B = A.symmetric_difference(B)\n",
    "print(\"Symmetric difference between A and B:\", A_symmetric_difference_B)\n",
    "\n",
    "\n",
    "del A\n",
    "del B\n",
    "print(\"A and B sets deleted.\")\n",
    "\n",
    "\n",
    "age_set = set(age)\n",
    "print(\"Length of age list:\", len(age))\n",
    "print(\"Length of age set:\", len(age_set))\n"
   ]
  },
  {
   "cell_type": "code",
   "execution_count": 106,
   "id": "af8284e2",
   "metadata": {},
   "outputs": [
    {
     "name": "stdout",
     "output_type": "stream",
     "text": [
      "Area of the circle: 2827.4333882308138\n",
      "Circumference of the circle: 188.49555921538757\n",
      "Area of the circle with radius 30.0 : 2827.4333882308138\n"
     ]
    }
   ],
   "source": [
    "#QUESTION 5\n",
    "\n",
    "import math\n",
    "\n",
    "radius = 30\n",
    "\n",
    "_area_of_circle_ = math.pi * radius ** 2\n",
    "print(\"Area of the circle:\", _area_of_circle_)\n",
    "\n",
    "_circum_of_circle_ = 2 * math.pi * radius\n",
    "print(\"Circumference of the circle:\", _circum_of_circle_)\n",
    "\n",
    "user_radius = float(input(\"Enter the radius of the circle: \"))\n",
    "user_area_of_circle = math.pi * user_radius ** 2\n",
    "print(\"Area of the circle with radius\", user_radius, \":\", user_area_of_circle)\n"
   ]
  },
  {
   "cell_type": "code",
   "execution_count": 107,
   "id": "d70f8709",
   "metadata": {},
   "outputs": [
    {
     "name": "stdout",
     "output_type": "stream",
     "text": [
      "10\n",
      "{'teacher', 'to', 'people', 'a', 'and', 'am', 'inspire', 'I', 'love', 'teach'}\n"
     ]
    }
   ],
   "source": [
    "#QUESTION 6\n",
    "\n",
    "# How many unique words have been used in the sentence? Use the split methods and set to get the unique words\n",
    "str=\"I am a teacher and I love to inspire and teach people\"\n",
    "words = set(str.split(\" \"))\n",
    "print(len(words))\n",
    "print(words)"
   ]
  },
  {
   "cell_type": "code",
   "execution_count": 108,
   "id": "3c67c47b",
   "metadata": {},
   "outputs": [
    {
     "name": "stdout",
     "output_type": "stream",
     "text": [
      "Name\tAge\tCountry\tCity\n",
      "Asabench\t250\tFinland\tHelsinki\n"
     ]
    }
   ],
   "source": [
    "#QUESTION 7\n",
    "\n",
    "# Use a tab escape sequence to get the following lines\n",
    "# Name   Age   Country  City\n",
    "# Asabench   250   Finland  Helsinki\n",
    "text=\"Name\\tAge\\tCountry\\tCity\\nAsabench\\t250\\tFinland\\tHelsinki\"\n",
    "print(text)"
   ]
  },
  {
   "cell_type": "code",
   "execution_count": 109,
   "id": "24df3971",
   "metadata": {},
   "outputs": [
    {
     "name": "stdout",
     "output_type": "stream",
     "text": [
      "\"The area of a circle with radius 10 is 314.0 meters square\"\n"
     ]
    }
   ],
   "source": [
    "#QUESTION 8\n",
    "\n",
    "# Use the string formatting method to display the following\n",
    "# \"The area of a circle with radius 10 is 314 meters square\"\n",
    "\n",
    "radius = 10\n",
    "area = 3.14*radius**2\n",
    "string=\"\\\"The area of a circle with radius {} is {} meters square\\\"\"\n",
    "print(string.format(radius,area))"
   ]
  },
  {
   "cell_type": "code",
   "execution_count": 2,
   "id": "2628a145",
   "metadata": {},
   "outputs": [
    {
     "name": "stdout",
     "output_type": "stream",
     "text": [
      "Weights in kilograms: [27.22, 29.48, 31.75, 34.02, 36.29, 38.56]\n"
     ]
    }
   ],
   "source": [
    "#QUESTION 9\n",
    "\n",
    "# Write a program which reads weight (lbs.) of N students into a list and convert these weights to kilograms in a separate list using Loop N: No of students (Read input from user)\n",
    "\n",
    "N = int(input(\"Enter the number of students: \"))\n",
    "\n",
    "weights_lbs = []\n",
    "\n",
    "for i in range(N):\n",
    "    weight_lbs = float(input(f\"Enter the weight of student {i+1} in pounds: \"))\n",
    "    weights_lbs.append(weight_lbs)\n",
    "\n",
    "weights_kg = []\n",
    "for weight_lbs in weights_lbs:\n",
    "    weight_kg = weight_lbs * 0.45359237\n",
    "    weights_kg.append(round(weight_kg, 2))\n",
    "\n",
    "print(\"Weights in kilograms:\", weights_kg)"
   ]
  },
  {
   "cell_type": "code",
   "execution_count": null,
   "id": "15ff7a0d",
   "metadata": {},
   "outputs": [],
   "source": []
  }
 ],
 "metadata": {
  "kernelspec": {
   "display_name": "Python 3 (ipykernel)",
   "language": "python",
   "name": "python3"
  },
  "language_info": {
   "codemirror_mode": {
    "name": "ipython",
    "version": 3
   },
   "file_extension": ".py",
   "mimetype": "text/x-python",
   "name": "python",
   "nbconvert_exporter": "python",
   "pygments_lexer": "ipython3",
   "version": "3.11.9"
  }
 },
 "nbformat": 4,
 "nbformat_minor": 5
}
